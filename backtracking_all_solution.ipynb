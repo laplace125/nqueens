{
 "cells": [
  {
   "cell_type": "markdown",
   "id": "9a5d27bd",
   "metadata": {},
   "source": [
    "# Backtracking"
   ]
  },
  {
   "cell_type": "code",
   "execution_count": null,
   "id": "dd9c30f0",
   "metadata": {},
   "outputs": [],
   "source": [
    "import time"
   ]
  },
  {
   "cell_type": "markdown",
   "id": "6aea9c23",
   "metadata": {},
   "source": [
    "#### Function safe_position_to_place_queen()"
   ]
  },
  {
   "cell_type": "markdown",
   "id": "8847057a",
   "metadata": {},
   "source": [
    "This code defines a function called \"safe_position_to_place_queen\" that takes in two arguments: \"present_row\" and \"present_column\".\n",
    "\n",
    "Line 3: The function uses a for loop to iterate through the rows from 0 up to the present_row.\n",
    "\n",
    "Line 4: Within the for loop, it checks if the present_column is equal to the column value stored in the \"cur_sol\" list at the current row. If they are equal, it returns False. This is checking if there is already a queen placed in the same column.\n",
    "\n",
    "Line 5: Within the for loop, it checks if the absolute difference between the present_row and the current row in the loop is equal to the absolute difference between the present_column and the column value stored in the \"cur_sol\" list at the current row. If they are equal, it returns False. This is checking if there is already a queen placed in the same diagonal.\n",
    "\n",
    "Line 7: If the for loop completes without returning False, the function returns True, indicating that it is safe to place a queen in the present_row and present_column.\n",
    "\n",
    "This function is a helper function in solving the n-queens problem using backtracking. It is used to determine if it is safe to place a queen in a certain position on the chessboard."
   ]
  },
  {
   "cell_type": "code",
   "execution_count": 1,
   "id": "dfd6cbba",
   "metadata": {},
   "outputs": [],
   "source": [
    "def safe_position_to_place_queen(present_row , present_column):\n",
    "    for row in range(present_row):\n",
    "        if present_column==cur_sol[row]:\n",
    "            return False \n",
    "        if abs(present_row - row) == abs(present_column-cur_sol[row]):\n",
    "            return False \n",
    "    return True"
   ]
  },
  {
   "cell_type": "markdown",
   "id": "35472357",
   "metadata": {},
   "source": [
    "#### Function place_queen_in_row()"
   ]
  },
  {
   "cell_type": "markdown",
   "id": "fcda2e8a",
   "metadata": {},
   "source": [
    "This code defines a function called \"place_queen_in_row\" that takes in one argument: \"row\".\n",
    "\n",
    "Line 2: The function uses the global keyword to indicate that it will be using three global variables: \"all_solutions\", \"number_of_queens\", and \"cur_sol\". This allows the function to modify these variables and have them retain their value outside of the function.\n",
    "\n",
    "Line 5: The function uses a for loop to iterate through the columns from 0 up to the number_of_queens.\n",
    "\n",
    "Line 6: Within the for loop, it calls the function \"safe_position_to_place_queen\" and pass the row and column arguments. If the function returns False, it continues to the next iteration of the for loop. This is to check if it is safe to place a queen in the current position.\n",
    "\n",
    "Line 8: Within the for loop, if the function \"safe_position_to_place_queen\" returns True, it assigns the column value to the current row in the cur_sol list.\n",
    "\n",
    "Line 9: If the current row is equal to the number_of_queens-1, it appends a copy of the cur_sol list to all_solutions list. This is because if it is the last row, it means a valid solution has been found.\n",
    "\n",
    "Line 11: If it is not the last row, it calls the place_queen_in_row function again but with the next row.\n",
    "\n",
    "- This function is used to iterate through the rows of the chessboard and check if it is safe to place a queen in the current position. \n",
    "- If it is safe, it will update the cur_sol list and check if it is the last row, if it is the last row, it means a valid solution has been found and it will append a copy of the cur_sol list to all_solutions list. \n",
    "- If it is not the last row, it will call the function again with the next row."
   ]
  },
  {
   "cell_type": "code",
   "execution_count": 4,
   "id": "98d8111b",
   "metadata": {},
   "outputs": [],
   "source": [
    "def place_queen_in_row(row):\n",
    "    #To have access to all_solutions , cur_sol and the number_of_queens\n",
    "    global all_solutions , number_of_queens , cur_sol\n",
    "    \n",
    "    for column in range(number_of_queens):\n",
    "        if not safe_position_to_place_queen(row, column):\n",
    "            continue\n",
    "        else:\n",
    "            cur_sol[row]= column\n",
    "            if row == number_of_queens-1:\n",
    "                all_solutions.append(cur_sol.copy())\n",
    "            else:\n",
    "                place_queen_in_row(row+1)"
   ]
  },
  {
   "cell_type": "markdown",
   "id": "78837e01",
   "metadata": {},
   "source": [
    "#### print all solutions"
   ]
  },
  {
   "cell_type": "markdown",
   "id": "56429eb8",
   "metadata": {},
   "source": [
    "number_of_queens=board_size= 8: This line assigns the value 8 to the variables number_of_queens and board_size. The value 8 is the number of queens to be placed on an 8x8 chess board.\n",
    "\n",
    "currentTime = time.time(): This line assigns the current time to the variable currentTime. The time module is used to measure the time taken to execute the code.\n",
    "\n",
    "cur_sol = [0 for i in range(number_of_queens)]: This line initializes a list cur_sol of length number_of_queens with all elements set to 0. This list will be used to store a possible complete solution.\n",
    "\n",
    "all_solutions = []: This line initializes an empty list all_solutions which will be used to store all complete solutions.\n",
    "place_queen_in_row(0): This line calls a function named place_queen_in_row with an argument of 0. The function is used to place queens on the chess board.\n",
    "\n",
    "for solution in all_solutions:: This line starts a loop that iterates through each solution in the all_solutions list.\n",
    "\n",
    "print(solution): This line prints the current solution being iterated in the loop.\n",
    "\n",
    "print(f'{len(all_solutions)} solutions are available for {number_of_queens}queens on boardsize {board_size} by {board_size}'): This line prints the number of solutions found for the specified number of queens on a board of the specified size.\n",
    "\n",
    "timeused=time.time() - currentTime: This line calculates the time taken to execute the code by subtracting the current time from the time when the code started executing.\n",
    "\n",
    "print(timeused): This line prints the value of the time used to execute the code."
   ]
  },
  {
   "cell_type": "code",
   "execution_count": 3,
   "id": "8f935251",
   "metadata": {},
   "outputs": [
    {
     "name": "stdout",
     "output_type": "stream",
     "text": [
      "[0, 4, 7, 5, 2, 6, 1, 3]\n",
      "[0, 5, 7, 2, 6, 3, 1, 4]\n",
      "[0, 6, 3, 5, 7, 1, 4, 2]\n",
      "[0, 6, 4, 7, 1, 3, 5, 2]\n",
      "[1, 3, 5, 7, 2, 0, 6, 4]\n",
      "[1, 4, 6, 0, 2, 7, 5, 3]\n",
      "[1, 4, 6, 3, 0, 7, 5, 2]\n",
      "[1, 5, 0, 6, 3, 7, 2, 4]\n",
      "[1, 5, 7, 2, 0, 3, 6, 4]\n",
      "[1, 6, 2, 5, 7, 4, 0, 3]\n",
      "[1, 6, 4, 7, 0, 3, 5, 2]\n",
      "[1, 7, 5, 0, 2, 4, 6, 3]\n",
      "[2, 0, 6, 4, 7, 1, 3, 5]\n",
      "[2, 4, 1, 7, 0, 6, 3, 5]\n",
      "[2, 4, 1, 7, 5, 3, 6, 0]\n",
      "[2, 4, 6, 0, 3, 1, 7, 5]\n",
      "[2, 4, 7, 3, 0, 6, 1, 5]\n",
      "[2, 5, 1, 4, 7, 0, 6, 3]\n",
      "[2, 5, 1, 6, 0, 3, 7, 4]\n",
      "[2, 5, 1, 6, 4, 0, 7, 3]\n",
      "[2, 5, 3, 0, 7, 4, 6, 1]\n",
      "[2, 5, 3, 1, 7, 4, 6, 0]\n",
      "[2, 5, 7, 0, 3, 6, 4, 1]\n",
      "[2, 5, 7, 0, 4, 6, 1, 3]\n",
      "[2, 5, 7, 1, 3, 0, 6, 4]\n",
      "[2, 6, 1, 7, 4, 0, 3, 5]\n",
      "[2, 6, 1, 7, 5, 3, 0, 4]\n",
      "[2, 7, 3, 6, 0, 5, 1, 4]\n",
      "[3, 0, 4, 7, 1, 6, 2, 5]\n",
      "[3, 0, 4, 7, 5, 2, 6, 1]\n",
      "[3, 1, 4, 7, 5, 0, 2, 6]\n",
      "[3, 1, 6, 2, 5, 7, 0, 4]\n",
      "[3, 1, 6, 2, 5, 7, 4, 0]\n",
      "[3, 1, 6, 4, 0, 7, 5, 2]\n",
      "[3, 1, 7, 4, 6, 0, 2, 5]\n",
      "[3, 1, 7, 5, 0, 2, 4, 6]\n",
      "[3, 5, 0, 4, 1, 7, 2, 6]\n",
      "[3, 5, 7, 1, 6, 0, 2, 4]\n",
      "[3, 5, 7, 2, 0, 6, 4, 1]\n",
      "[3, 6, 0, 7, 4, 1, 5, 2]\n",
      "[3, 6, 2, 7, 1, 4, 0, 5]\n",
      "[3, 6, 4, 1, 5, 0, 2, 7]\n",
      "[3, 6, 4, 2, 0, 5, 7, 1]\n",
      "[3, 7, 0, 2, 5, 1, 6, 4]\n",
      "[3, 7, 0, 4, 6, 1, 5, 2]\n",
      "[3, 7, 4, 2, 0, 6, 1, 5]\n",
      "[4, 0, 3, 5, 7, 1, 6, 2]\n",
      "[4, 0, 7, 3, 1, 6, 2, 5]\n",
      "[4, 0, 7, 5, 2, 6, 1, 3]\n",
      "[4, 1, 3, 5, 7, 2, 0, 6]\n",
      "[4, 1, 3, 6, 2, 7, 5, 0]\n",
      "[4, 1, 5, 0, 6, 3, 7, 2]\n",
      "[4, 1, 7, 0, 3, 6, 2, 5]\n",
      "[4, 2, 0, 5, 7, 1, 3, 6]\n",
      "[4, 2, 0, 6, 1, 7, 5, 3]\n",
      "[4, 2, 7, 3, 6, 0, 5, 1]\n",
      "[4, 6, 0, 2, 7, 5, 3, 1]\n",
      "[4, 6, 0, 3, 1, 7, 5, 2]\n",
      "[4, 6, 1, 3, 7, 0, 2, 5]\n",
      "[4, 6, 1, 5, 2, 0, 3, 7]\n",
      "[4, 6, 1, 5, 2, 0, 7, 3]\n",
      "[4, 6, 3, 0, 2, 7, 5, 1]\n",
      "[4, 7, 3, 0, 2, 5, 1, 6]\n",
      "[4, 7, 3, 0, 6, 1, 5, 2]\n",
      "[5, 0, 4, 1, 7, 2, 6, 3]\n",
      "[5, 1, 6, 0, 2, 4, 7, 3]\n",
      "[5, 1, 6, 0, 3, 7, 4, 2]\n",
      "[5, 2, 0, 6, 4, 7, 1, 3]\n",
      "[5, 2, 0, 7, 3, 1, 6, 4]\n",
      "[5, 2, 0, 7, 4, 1, 3, 6]\n",
      "[5, 2, 4, 6, 0, 3, 1, 7]\n",
      "[5, 2, 4, 7, 0, 3, 1, 6]\n",
      "[5, 2, 6, 1, 3, 7, 0, 4]\n",
      "[5, 2, 6, 1, 7, 4, 0, 3]\n",
      "[5, 2, 6, 3, 0, 7, 1, 4]\n",
      "[5, 3, 0, 4, 7, 1, 6, 2]\n",
      "[5, 3, 1, 7, 4, 6, 0, 2]\n",
      "[5, 3, 6, 0, 2, 4, 1, 7]\n",
      "[5, 3, 6, 0, 7, 1, 4, 2]\n",
      "[5, 7, 1, 3, 0, 6, 4, 2]\n",
      "[6, 0, 2, 7, 5, 3, 1, 4]\n",
      "[6, 1, 3, 0, 7, 4, 2, 5]\n",
      "[6, 1, 5, 2, 0, 3, 7, 4]\n",
      "[6, 2, 0, 5, 7, 4, 1, 3]\n",
      "[6, 2, 7, 1, 4, 0, 5, 3]\n",
      "[6, 3, 1, 4, 7, 0, 2, 5]\n",
      "[6, 3, 1, 7, 5, 0, 2, 4]\n",
      "[6, 4, 2, 0, 5, 7, 1, 3]\n",
      "[7, 1, 3, 0, 6, 4, 2, 5]\n",
      "[7, 1, 4, 2, 0, 6, 3, 5]\n",
      "[7, 2, 0, 5, 1, 4, 6, 3]\n",
      "[7, 3, 0, 2, 5, 1, 6, 4]\n",
      "92 solutions are available for 8queens on  boardsize 8 by 8\n",
      "0.04999518394470215\n"
     ]
    }
   ],
   "source": [
    "number_of_queens=board_size= 8  \n",
    "currentTime = time.time()\n",
    "#cur_sol: this build up and hold a possible complete solution \n",
    "cur_sol = [0 for i in range(number_of_queens)] \n",
    "#all_solutions: This build up and store all complete current_solutions\n",
    "all_solutions = [] \n",
    "place_queen_in_row(0)\n",
    "### Print all solutions\n",
    "for solution in all_solutions:\n",
    "    print(solution)\n",
    "    \n",
    "print(f'{len(all_solutions)} solutions are available for {number_of_queens} queens on  boardsize {board_size} by {board_size}')\n",
    "timeused=time.time() - currentTime\n",
    "print(timeused)"
   ]
  },
  {
   "cell_type": "code",
   "execution_count": null,
   "id": "eb696402",
   "metadata": {},
   "outputs": [],
   "source": []
  }
 ],
 "metadata": {
  "kernelspec": {
   "display_name": "Python 3 (ipykernel)",
   "language": "python",
   "name": "python3"
  },
  "language_info": {
   "codemirror_mode": {
    "name": "ipython",
    "version": 3
   },
   "file_extension": ".py",
   "mimetype": "text/x-python",
   "name": "python",
   "nbconvert_exporter": "python",
   "pygments_lexer": "ipython3",
   "version": "3.9.7"
  }
 },
 "nbformat": 4,
 "nbformat_minor": 5
}
