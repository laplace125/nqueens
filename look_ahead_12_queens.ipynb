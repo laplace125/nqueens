{
 "cells": [
  {
   "cell_type": "markdown",
   "id": "eee25972",
   "metadata": {},
   "source": [
    "# Look ahead program with backtracking to solve 12 queens chess problem"
   ]
  },
  {
   "cell_type": "markdown",
   "id": "751a3dc1",
   "metadata": {},
   "source": [
    "##### is safe function\n",
    "This function checks if there is a row attack , column attack or diagonal attack."
   ]
  },
  {
   "cell_type": "code",
   "execution_count": 1,
   "id": "162127e0",
   "metadata": {},
   "outputs": [],
   "source": [
    "#N_QUEENS_PROBLEM\n",
    "\n",
    "import time\n",
    "def is_safe(present_row, present_col, assigned_cells):\n",
    "    for row, col in assigned_cells:\n",
    "        if (row, col) != (present_row, present_col):\n",
    "            if (present_col + present_row == col + row) or (present_col - present_row == col - row):\n",
    "                return False\n",
    "            elif col == present_col:\n",
    "                return False\n",
    "\n",
    "    return True"
   ]
  },
  {
   "cell_type": "markdown",
   "id": "7b80fd46",
   "metadata": {},
   "source": [
    "##### The lookahead function"
   ]
  },
  {
   "cell_type": "code",
   "execution_count": 2,
   "id": "37b0e8d5",
   "metadata": {},
   "outputs": [],
   "source": [
    "#lookahead function\n",
    "def look_ahead(assigned_cells, domains, unassigned_cells, row, n):\n",
    "    #loop till we have all queens placed. after all queens are placed we aer done\n",
    "    if len(assigned_cells) == n:\n",
    "        return assigned_cells\n",
    "\n",
    "    # iterate through all columns for a particular row\n",
    "    for col in domains[row]:\n",
    "        assigned_cells.add((row, col))\n",
    "        unassigned_cells.remove(row)        \n",
    "        new_domains, isempty = update_domains(assigned_cells, domains, unassigned_cells, n)\n",
    "        if not isempty:\n",
    "            #print(f\"assigned cells {assigned_cells} \")\n",
    "            if look_ahead(assigned_cells, new_domains, unassigned_cells, row + 1, n):                \n",
    "                \n",
    "                return assigned_cells\n",
    "        assigned_cells.remove((row, col))\n",
    "        unassigned_cells.add(row)"
   ]
  },
  {
   "cell_type": "code",
   "execution_count": 3,
   "id": "90a8117e",
   "metadata": {},
   "outputs": [],
   "source": [
    "# The function get_domain values for a given row\n",
    "def get_domain(assigned_cells, row, domains):\n",
    "    values = []\n",
    "    for col in domains[row]:\n",
    "        if is_safe(row, col, assigned_cells):\n",
    "            values.append(col)\n",
    "\n",
    "    return values"
   ]
  },
  {
   "cell_type": "code",
   "execution_count": 4,
   "id": "046d8c19",
   "metadata": {},
   "outputs": [],
   "source": [
    "def update_domains(assigned_cells, domains, unassigned_cells, board_size):\n",
    "    new_domains = {}  \n",
    "\n",
    "    for i in unassigned_cells:\n",
    "        values = get_domain(assigned_cells, i, domains)\n",
    "        if len(values) == 0:\n",
    "            return {}, True\n",
    "        new_domains[i] = values     \n",
    "    return new_domains, False             "
   ]
  },
  {
   "cell_type": "code",
   "execution_count": 5,
   "id": "d3ca6119",
   "metadata": {},
   "outputs": [],
   "source": [
    "#SHOW BORAD FUNCTION\n",
    "def show_board(assigned_cells, board_size):\n",
    "    if not assigned_cells:\n",
    "        print(\"Zero solution is available\")\n",
    "        return\n",
    "    board = [[0 for i in range(board_size)]for i in range(board_size)]\n",
    "    for row, col in assigned_cells:\n",
    "        board[row][col] = 1\n",
    "    for row in board:\n",
    "        print(row)\n",
    "\n"
   ]
  },
  {
   "cell_type": "code",
   "execution_count": 6,
   "id": "6fb46c03",
   "metadata": {},
   "outputs": [],
   "source": [
    "# returns domains and a set of unassigned_cells\n",
    "def init(n):\n",
    "    domains = {}\n",
    "    unassigned_cells = set()\n",
    "    for i in range(n):\n",
    "        unassigned_cells.add(i)\n",
    "        values = []\n",
    "        for j in range(n):\n",
    "            values.append(j)\n",
    "        domains[i] = values\n",
    "    return domains, unassigned_cells\n",
    "\n",
    "         "
   ]
  },
  {
   "cell_type": "code",
   "execution_count": 7,
   "id": "1fcbd11b",
   "metadata": {},
   "outputs": [
    {
     "name": "stdout",
     "output_type": "stream",
     "text": [
      "Solution Found\n",
      "[0, 1, 0, 0]\n",
      "[0, 0, 0, 1]\n",
      "[1, 0, 0, 0]\n",
      "[0, 0, 1, 0]\n",
      "board size = 4 by 4\n",
      "num queens = 4\n",
      "Total Time Taken for look ahead: 0.0 \n"
     ]
    }
   ],
   "source": [
    "#calling the function\n",
    "def call_look_ahead():\n",
    "    board_size=4\n",
    "    assigned_cells = set()\n",
    "    domains, unassigned_cells = init(board_size)\n",
    "    start_time = time.time()\n",
    "    look_ahead(assigned_cells, domains, unassigned_cells, 0, board_size)\n",
    "    time_taken = time.time() - start_time\n",
    "    print(f\"Solution Found\")         \n",
    "    show_board(assigned_cells, board_size)\n",
    "    print(f'board size = {board_size} by {board_size}\\nnum queens = {board_size}')  \n",
    "    print(f\"Total Time Taken for look ahead: {time_taken} \")         \n",
    "      \n",
    "     \n",
    "call_look_ahead() "
   ]
  },
  {
   "cell_type": "code",
   "execution_count": null,
   "id": "d65b4d00",
   "metadata": {},
   "outputs": [],
   "source": []
  },
  {
   "cell_type": "code",
   "execution_count": null,
   "id": "74ea0c97",
   "metadata": {},
   "outputs": [],
   "source": []
  }
 ],
 "metadata": {
  "kernelspec": {
   "display_name": "Python 3 (ipykernel)",
   "language": "python",
   "name": "python3"
  },
  "language_info": {
   "codemirror_mode": {
    "name": "ipython",
    "version": 3
   },
   "file_extension": ".py",
   "mimetype": "text/x-python",
   "name": "python",
   "nbconvert_exporter": "python",
   "pygments_lexer": "ipython3",
   "version": "3.9.7"
  }
 },
 "nbformat": 4,
 "nbformat_minor": 5
}
