{
 "cells": [
  {
   "cell_type": "code",
   "execution_count": 1,
   "id": "ca515dcf",
   "metadata": {},
   "outputs": [],
   "source": [
    "# Python program to solve N Queen\n",
    "# Problem using backtracking"
   ]
  },
  {
   "cell_type": "code",
   "execution_count": 26,
   "id": "34daf96a",
   "metadata": {},
   "outputs": [],
   "source": [
    "global N\n",
    "N = 4"
   ]
  },
  {
   "cell_type": "code",
   "execution_count": 15,
   "id": "3221a3a8",
   "metadata": {},
   "outputs": [],
   "source": [
    "def printSolution(board):\n",
    "    for i in range(N):\n",
    "        for j in range(N):\n",
    "            print()"
   ]
  },
  {
   "cell_type": "code",
   "execution_count": 16,
   "id": "02c2f2b0",
   "metadata": {},
   "outputs": [],
   "source": [
    "# A utility function to check if a queen can\n",
    "# be placed on board[row][col]. Note that this\n",
    "# function is called when \"col\" queens are\n",
    "# already placed in columns from 0 to col -1.\n",
    "# So we need to check only left side for\n",
    "# attacking queens"
   ]
  },
  {
   "cell_type": "code",
   "execution_count": 91,
   "id": "f87b4490",
   "metadata": {},
   "outputs": [],
   "source": [
    "def isSafe(board , row , col):\n",
    "    #check this row on the left side\n",
    "    for i in range(col):\n",
    "        if board[row][i]==1:\n",
    "            return False\n",
    "    #check upper diagonal on left side\n",
    "    for i,j in zip(range(row,-1,-1), range(col,-1,-1)):\n",
    "        if board[i][j]==1:\n",
    "            return False\n",
    "    return True\n",
    "def solveNQUtil(board, col):\n",
    "    # base case: If all queens are placed\n",
    "    # then return true\n",
    "    if col >= N:\n",
    "        return True\n",
    " \n",
    "    # Consider this column and try placing\n",
    "    # this queen in all rows one by one\n",
    "    for i in range(N):\n",
    " \n",
    "        if isSafe(board, i, col):\n",
    "            # Place this queen in board[i][col]\n",
    "            board[i][col] = 1\n",
    " \n",
    "            # recur to place rest of the queens\n",
    "            if solveNQUtil(board, col + 1) == True:\n",
    "                return True\n",
    " \n",
    "            # If placing queen in board[i][col\n",
    "            # doesn't lead to a solution, then\n",
    "            # queen from board[i][col]\n",
    "            board[i][col] = 0\n",
    " \n",
    "    # if the queen can not be placed in any row in\n",
    "    # this column col  then return false\n",
    "    return False\n",
    "\n",
    "def solveNQ():\n",
    "    board = [ [1, 0, 0, 0],\n",
    "              [0, 0, 1, 0],\n",
    "              [0, 0, 0, 0],\n",
    "              [0, 0, 0, 0]\n",
    "             ]\n",
    " \n",
    "    if solveNQUtil(board, 0) == False:\n",
    "        print (\"Solution does not exist\")\n",
    "        return False\n",
    " \n",
    "    printSolution(board)\n",
    "    return True"
   ]
  },
  {
   "cell_type": "code",
   "execution_count": 92,
   "id": "13c0cd68",
   "metadata": {},
   "outputs": [
    {
     "name": "stdout",
     "output_type": "stream",
     "text": [
      "Solution does not exist\n"
     ]
    },
    {
     "data": {
      "text/plain": [
       "False"
      ]
     },
     "execution_count": 92,
     "metadata": {},
     "output_type": "execute_result"
    }
   ],
   "source": [
    "solveNQ()"
   ]
  },
  {
   "cell_type": "code",
   "execution_count": 93,
   "id": "453ed4f2",
   "metadata": {},
   "outputs": [
    {
     "data": {
      "text/plain": [
       "range(0, 8)"
      ]
     },
     "execution_count": 93,
     "metadata": {},
     "output_type": "execute_result"
    }
   ],
   "source": [
    "range(8)"
   ]
  },
  {
   "cell_type": "code",
   "execution_count": 94,
   "id": "157873e9",
   "metadata": {},
   "outputs": [
    {
     "data": {
      "text/plain": [
       "range"
      ]
     },
     "execution_count": 94,
     "metadata": {},
     "output_type": "execute_result"
    }
   ],
   "source": [
    "type(range(8))"
   ]
  },
  {
   "cell_type": "code",
   "execution_count": 95,
   "id": "b10c94c3",
   "metadata": {},
   "outputs": [
    {
     "name": "stdout",
     "output_type": "stream",
     "text": [
      "4\n",
      "3\n",
      "2\n",
      "1\n",
      "0\n"
     ]
    }
   ],
   "source": [
    "for i in range(4,-1,-1):\n",
    "    print(i)"
   ]
  },
  {
   "cell_type": "code",
   "execution_count": 1,
   "id": "5581b0e3",
   "metadata": {},
   "outputs": [
    {
     "name": "stdout",
     "output_type": "stream",
     "text": [
      "Enter number of rows8\n",
      "[[0, 0, 0, 0, 0, 0, 0, 0], [0, 0, 0, 0, 0, 0, 0, 0], [0, 0, 0, 0, 0, 0, 0, 0], [0, 0, 0, 0, 0, 0, 0, 0], [0, 0, 0, 0, 0, 0, 0, 0], [0, 0, 0, 0, 0, 0, 0, 0], [0, 0, 0, 0, 0, 0, 0, 0], [0, 0, 0, 0, 0, 0, 0, 0]]\n"
     ]
    }
   ],
   "source": [
    "n= int(input(\"Enter number of rows\"))\n",
    "board=[[0 for i in range(n)] for i in range(n)]\n",
    "for"
   ]
  },
  {
   "cell_type": "code",
   "execution_count": 2,
   "id": "170d597f",
   "metadata": {},
   "outputs": [],
   "source": [
    "board[1][0]=5\n",
    "board[1][1]=6\n",
    "board[1][2]=7\n",
    "board[1][3]=8\n",
    "board[2][0]=9\n",
    "board[2][1]=10\n",
    "board[2][2]=11\n",
    "board[2][3]=12\n",
    "board[3][0]=13\n",
    "board[3][1]=14\n",
    "board[3][2]=15\n",
    "board[3][3]=16"
   ]
  },
  {
   "cell_type": "code",
   "execution_count": 3,
   "id": "9007cafc",
   "metadata": {},
   "outputs": [],
   "source": [
    "board[2][3]=1"
   ]
  },
  {
   "cell_type": "code",
   "execution_count": 4,
   "id": "e1db8270",
   "metadata": {},
   "outputs": [
    {
     "name": "stdout",
     "output_type": "stream",
     "text": [
      "[0, 0, 0, 0, 0, 0, 0, 0]\n",
      "[5, 6, 7, 8, 0, 0, 0, 0]\n",
      "[9, 10, 11, 1, 0, 0, 0, 0]\n",
      "[13, 14, 15, 16, 0, 0, 0, 0]\n",
      "[0, 0, 0, 0, 0, 0, 0, 0]\n",
      "[0, 0, 0, 0, 0, 0, 0, 0]\n",
      "[0, 0, 0, 0, 0, 0, 0, 0]\n",
      "[0, 0, 0, 0, 0, 0, 0, 0]\n"
     ]
    }
   ],
   "source": [
    "for row in board:\n",
    "    print(row)"
   ]
  },
  {
   "cell_type": "code",
   "execution_count": 5,
   "id": "32f48070",
   "metadata": {},
   "outputs": [],
   "source": [
    "def check_column(board,row,column):\n",
    "    for i in range(row,-1,-1):\n",
    "        if board[i][column]==1:\n",
    "            return False\n",
    "    return True"
   ]
  },
  {
   "cell_type": "code",
   "execution_count": 6,
   "id": "4a687a91",
   "metadata": {},
   "outputs": [
    {
     "data": {
      "text/plain": [
       "False"
      ]
     },
     "execution_count": 6,
     "metadata": {},
     "output_type": "execute_result"
    }
   ],
   "source": [
    "check_column(board,2,3)"
   ]
  },
  {
   "cell_type": "code",
   "execution_count": 7,
   "id": "dde37e45",
   "metadata": {},
   "outputs": [
    {
     "name": "stdout",
     "output_type": "stream",
     "text": [
      "[[0, 0, 0, 0, 0, 0, 0, 0], [5, 6, 7, 8, 0, 0, 0, 0], [9, 10, 11, 1, 0, 0, 0, 0], [13, 14, 15, 16, 0, 0, 0, 0], [0, 0, 0, 0, 0, 0, 0, 0], [0, 0, 0, 0, 0, 0, 0, 0], [0, 0, 0, 0, 0, 0, 0, 0], [0, 0, 0, 0, 0, 0, 0, 0]]\n"
     ]
    }
   ],
   "source": [
    "print(board)"
   ]
  },
  {
   "cell_type": "code",
   "execution_count": null,
   "id": "d9c97b15",
   "metadata": {},
   "outputs": [],
   "source": []
  }
 ],
 "metadata": {
  "kernelspec": {
   "display_name": "Python 3 (ipykernel)",
   "language": "python",
   "name": "python3"
  },
  "language_info": {
   "codemirror_mode": {
    "name": "ipython",
    "version": 3
   },
   "file_extension": ".py",
   "mimetype": "text/x-python",
   "name": "python",
   "nbconvert_exporter": "python",
   "pygments_lexer": "ipython3",
   "version": "3.9.7"
  }
 },
 "nbformat": 4,
 "nbformat_minor": 5
}
